{
  "nbformat": 4,
  "nbformat_minor": 0,
  "metadata": {
    "colab": {
      "provenance": [],
      "authorship_tag": "ABX9TyP3k9Mc4M141xsAvsQSXC0M",
      "include_colab_link": true
    },
    "kernelspec": {
      "name": "python3",
      "display_name": "Python 3"
    },
    "language_info": {
      "name": "python"
    }
  },
  "cells": [
    {
      "cell_type": "markdown",
      "metadata": {
        "id": "view-in-github",
        "colab_type": "text"
      },
      "source": [
        "<a href=\"https://colab.research.google.com/github/durrapearl/mqtt/blob/main/LR_KNN_DT_RF_NB%20biflow.ipynb\" target=\"_parent\"><img src=\"https://colab.research.google.com/assets/colab-badge.svg\" alt=\"Open In Colab\"/></a>"
      ]
    },
    {
      "cell_type": "code",
      "execution_count": 27,
      "metadata": {
        "colab": {
          "base_uri": "https://localhost:8080/"
        },
        "id": "HViXepuT6EEW",
        "outputId": "2ad328e3-3e74-461f-db23-8440dbe4da00"
      },
      "outputs": [
        {
          "output_type": "stream",
          "name": "stdout",
          "text": [
            "Drive already mounted at /content/drive; to attempt to forcibly remount, call drive.mount(\"/content/drive\", force_remount=True).\n"
          ]
        }
      ],
      "source": [
        "import warnings\n",
        "warnings.filterwarnings(\"ignore\")\n",
        "import pandas as pd\n",
        "import numpy as np\n",
        "from sklearn.model_selection import train_test_split, cross_val_score\n",
        "from sklearn.preprocessing import LabelEncoder, StandardScaler, OneHotEncoder\n",
        "from imblearn.over_sampling import ADASYN\n",
        "from sklearn.metrics import classification_report, accuracy_score, precision_score, recall_score, f1_score\n",
        "import matplotlib.pyplot as plt\n",
        "import seaborn as sns\n",
        "from sklearn.linear_model import LogisticRegression\n",
        "from sklearn.neighbors import KNeighborsClassifier\n",
        "from sklearn.tree import DecisionTreeClassifier\n",
        "from sklearn.ensemble import RandomForestClassifier, VotingClassifier\n",
        "from sklearn.naive_bayes import GaussianNB\n",
        "# Mount Google Drive (if needed)\n",
        "from google.colab import drive\n",
        "drive.mount('/content/drive')\n",
        "\n",
        "# Extract zipfile\n",
        "import zipfile"
      ]
    },
    {
      "cell_type": "code",
      "source": [
        "# Define the path to the ZIP file and the extraction directory\n",
        "zip_file_path = '/content/drive/MyDrive/biflow_features.zip'\n",
        "extraction_path = '/content/biflow_features/'\n",
        "\n",
        "# Create the extraction directory if it doesn't exist\n",
        "import os\n",
        "os.makedirs(extraction_path, exist_ok=True)\n",
        "\n",
        "# Unzip the file\n",
        "with zipfile.ZipFile(zip_file_path, 'r') as zip_ref:\n",
        "    zip_ref.extractall(extraction_path)\n",
        "\n",
        "# List the extracted files\n",
        "extracted_files = os.listdir(extraction_path)\n",
        "print(f'Extracted files: {extracted_files}')\n",
        "\n",
        "# Import the os module if not already imported\n",
        "import os\n",
        "\n",
        "# Define file paths for the CSV files\n",
        "normal_csv_path = os.path.join(extraction_path, 'biflow_normal.csv')\n",
        "scan_su_csv_path = os.path.join(extraction_path, 'biflow_scan_sU.csv')\n",
        "sparta_csv_path = os.path.join(extraction_path, 'biflow_sparta.csv')\n",
        "mqtt_bruteforce_csv_path = os.path.join(extraction_path, 'biflow_mqtt_bruteforce.csv')\n",
        "\n",
        "# Load CSV files into DataFrames\n",
        "normal_df = pd.read_csv(normal_csv_path)\n",
        "scan_su_df = pd.read_csv(scan_su_csv_path)\n",
        "sparta_df = pd.read_csv(sparta_csv_path)\n",
        "mqtt_bruteforce_df = pd.read_csv(mqtt_bruteforce_csv_path)\n",
        "\n",
        "# Add a 'class' column to each DataFrame\n",
        "normal_df['class'] = '0'\n",
        "scan_su_df['class'] = '1'\n",
        "sparta_df['class'] = '2'\n",
        "mqtt_bruteforce_df['class'] = '3'\n",
        "# Concatenate the DataFrames into one combined_df\n",
        "df = pd.concat([normal_df, scan_su_df, sparta_df, mqtt_bruteforce_df], ignore_index=True)\n",
        "\n",
        "# Check the distribution of labels\n",
        "label_counts = df['class'].value_counts()\n",
        "print(label_counts)\n",
        "\n",
        "# Define your feature matrix X and target variable y\n",
        "y = df['class']  # 'class' column is your label\n",
        "X = df.drop(columns=['class'])  # Exclude the 'class' column from features\n",
        "\n",
        "# Encode the target variable\n",
        "label_encoder = LabelEncoder()\n",
        "y_encoded = label_encoder.fit_transform(y)"
      ],
      "metadata": {
        "colab": {
          "base_uri": "https://localhost:8080/"
        },
        "id": "HVlv8fGp6IXO",
        "outputId": "1679ea53-c82c-4b38-965b-aba5e920f7f7"
      },
      "execution_count": 28,
      "outputs": [
        {
          "output_type": "stream",
          "name": "stdout",
          "text": [
            "Extracted files: ['biflow_normal.csv', 'biflow_scan_A.csv', 'biflow_scan_sU.csv', 'biflow_sparta.csv', 'biflow_mqtt_bruteforce.csv']\n",
            "2    91318\n",
            "0    86008\n",
            "1    39664\n",
            "3    16696\n",
            "Name: class, dtype: int64\n"
          ]
        }
      ]
    },
    {
      "cell_type": "code",
      "source": [
        "# Assuming 'ip_src' and 'ip_dst' are categorical columns in your original DataFrame\n",
        "categorical_cols = ['ip_src', 'ip_dst']  # Add other categorical columns if needed\n",
        "encoder = OneHotEncoder(sparse=False, drop='first')\n",
        "\n",
        "# Apply one-hot encoding to categorical columns\n",
        "X_encoded = encoder.fit_transform(X[categorical_cols])\n",
        "\n",
        "# Normalize the numerical columns\n",
        "numeric_cols = X.columns.difference(categorical_cols)\n",
        "scaler = StandardScaler()\n",
        "X_scaled_numeric = scaler.fit_transform(X[numeric_cols])\n",
        "\n",
        "# Combine the one-hot encoded and scaled numeric features\n",
        "X_final = np.hstack((X_encoded, X_scaled_numeric))\n",
        "\n",
        "# Split the data into training and test sets\n",
        "X_train, X_test, y_train, y_test = train_test_split(X_final, y_encoded, random_state=42, stratify=y_encoded)"
      ],
      "metadata": {
        "id": "KFSjjFYF6MzC"
      },
      "execution_count": 29,
      "outputs": []
    },
    {
      "cell_type": "code",
      "source": [
        "from collections import Counter\n",
        "class_distribution = Counter(y_train)\n",
        "print(class_distribution)"
      ],
      "metadata": {
        "colab": {
          "base_uri": "https://localhost:8080/"
        },
        "id": "43e5Wj9d8uac",
        "outputId": "646513f0-1260-4dc1-9823-c4560248c58b"
      },
      "execution_count": 30,
      "outputs": [
        {
          "output_type": "stream",
          "name": "stdout",
          "text": [
            "Counter({2: 68488, 0: 64506, 1: 29748, 3: 12522})\n"
          ]
        }
      ]
    },
    {
      "cell_type": "code",
      "source": [
        "# Apply ADASYN for oversampling\n",
        "adasyn = ADASYN(n_jobs=-1, sampling_strategy={2: 68488, 0: 64506, 1: 29748, 3: 12522})\n",
        "X_train_resampled, y_train_resampled = adasyn.fit_resample(X_train, y_train)"
      ],
      "metadata": {
        "id": "oNHNqD9l6PD9"
      },
      "execution_count": 31,
      "outputs": []
    },
    {
      "cell_type": "code",
      "source": [
        "# Initialize and train the Gaussian Naive Bayes classifier\n",
        "nb_classifier = GaussianNB()\n",
        "nb_classifier.fit(X_train_resampled, y_train_resampled)\n",
        "# Predict on the test set\n",
        "y_pred = nb_classifier.predict(X_test)\n",
        "\n",
        "# Calculate accuracy on the test set\n",
        "accuracy = accuracy_score(y_test, y_pred)\n",
        "print(f'Accuracy: {accuracy:.2f}')"
      ],
      "metadata": {
        "colab": {
          "base_uri": "https://localhost:8080/"
        },
        "id": "AxJc-GYg6Q2K",
        "outputId": "75acb776-a429-4454-d7fc-928351296e13"
      },
      "execution_count": 32,
      "outputs": [
        {
          "output_type": "stream",
          "name": "stdout",
          "text": [
            "Accuracy: 0.57\n"
          ]
        }
      ]
    },
    {
      "cell_type": "code",
      "source": [
        "# Initialize and train the Decision Tree Classifier\n",
        "dt_classifier = DecisionTreeClassifier(criterion='entropy', random_state=0)\n",
        "dt_classifier.fit(X_train_resampled, y_train_resampled)\n",
        "\n",
        "# Predict on the test set\n",
        "y_pred = dt_classifier.predict(X_test)\n",
        "\n",
        "# Calculate accuracy on the test set\n",
        "accuracy = accuracy_score(y_test, y_pred)\n",
        "print(f'Accuracy: {accuracy:.2f}')"
      ],
      "metadata": {
        "colab": {
          "base_uri": "https://localhost:8080/"
        },
        "id": "5SSwERhS6Skr",
        "outputId": "f1a2619d-b202-412e-efcf-abc1cf77c6a7"
      },
      "execution_count": 33,
      "outputs": [
        {
          "output_type": "stream",
          "name": "stdout",
          "text": [
            "Accuracy: 0.96\n"
          ]
        }
      ]
    },
    {
      "cell_type": "code",
      "source": [
        "# Initialize classifiers\n",
        "logistic_classifier = LogisticRegression(n_jobs=-1, random_state=0)\n",
        "knn_classifier = KNeighborsClassifier(n_jobs=-1)\n",
        "decision_tree_classifier = DecisionTreeClassifier(criterion='entropy', random_state=0)\n",
        "random_forest_classifier = RandomForestClassifier(criterion='entropy', n_jobs=-1, random_state=0)\n",
        "naive_bayes_classifier = GaussianNB()"
      ],
      "metadata": {
        "id": "znck5m8GUo94"
      },
      "execution_count": 34,
      "outputs": []
    },
    {
      "cell_type": "code",
      "source": [
        "# Train each classifier individually\n",
        "logistic_classifier.fit(X_train_resampled, y_train_resampled)\n",
        "knn_classifier.fit(X_train_resampled, y_train_resampled)\n",
        "decision_tree_classifier.fit(X_train_resampled, y_train_resampled)\n",
        "random_forest_classifier.fit(X_train_resampled, y_train_resampled)\n",
        "naive_bayes_classifier.fit(X_train_resampled, y_train_resampled)\n"
      ],
      "metadata": {
        "colab": {
          "base_uri": "https://localhost:8080/",
          "height": 75
        },
        "id": "BqyRwZ-1QauA",
        "outputId": "bba93201-b9d7-49d1-e7ff-d0ac5c037b79"
      },
      "execution_count": 35,
      "outputs": [
        {
          "output_type": "execute_result",
          "data": {
            "text/plain": [
              "GaussianNB()"
            ],
            "text/html": [
              "<style>#sk-container-id-2 {color: black;background-color: white;}#sk-container-id-2 pre{padding: 0;}#sk-container-id-2 div.sk-toggleable {background-color: white;}#sk-container-id-2 label.sk-toggleable__label {cursor: pointer;display: block;width: 100%;margin-bottom: 0;padding: 0.3em;box-sizing: border-box;text-align: center;}#sk-container-id-2 label.sk-toggleable__label-arrow:before {content: \"▸\";float: left;margin-right: 0.25em;color: #696969;}#sk-container-id-2 label.sk-toggleable__label-arrow:hover:before {color: black;}#sk-container-id-2 div.sk-estimator:hover label.sk-toggleable__label-arrow:before {color: black;}#sk-container-id-2 div.sk-toggleable__content {max-height: 0;max-width: 0;overflow: hidden;text-align: left;background-color: #f0f8ff;}#sk-container-id-2 div.sk-toggleable__content pre {margin: 0.2em;color: black;border-radius: 0.25em;background-color: #f0f8ff;}#sk-container-id-2 input.sk-toggleable__control:checked~div.sk-toggleable__content {max-height: 200px;max-width: 100%;overflow: auto;}#sk-container-id-2 input.sk-toggleable__control:checked~label.sk-toggleable__label-arrow:before {content: \"▾\";}#sk-container-id-2 div.sk-estimator input.sk-toggleable__control:checked~label.sk-toggleable__label {background-color: #d4ebff;}#sk-container-id-2 div.sk-label input.sk-toggleable__control:checked~label.sk-toggleable__label {background-color: #d4ebff;}#sk-container-id-2 input.sk-hidden--visually {border: 0;clip: rect(1px 1px 1px 1px);clip: rect(1px, 1px, 1px, 1px);height: 1px;margin: -1px;overflow: hidden;padding: 0;position: absolute;width: 1px;}#sk-container-id-2 div.sk-estimator {font-family: monospace;background-color: #f0f8ff;border: 1px dotted black;border-radius: 0.25em;box-sizing: border-box;margin-bottom: 0.5em;}#sk-container-id-2 div.sk-estimator:hover {background-color: #d4ebff;}#sk-container-id-2 div.sk-parallel-item::after {content: \"\";width: 100%;border-bottom: 1px solid gray;flex-grow: 1;}#sk-container-id-2 div.sk-label:hover label.sk-toggleable__label {background-color: #d4ebff;}#sk-container-id-2 div.sk-serial::before {content: \"\";position: absolute;border-left: 1px solid gray;box-sizing: border-box;top: 0;bottom: 0;left: 50%;z-index: 0;}#sk-container-id-2 div.sk-serial {display: flex;flex-direction: column;align-items: center;background-color: white;padding-right: 0.2em;padding-left: 0.2em;position: relative;}#sk-container-id-2 div.sk-item {position: relative;z-index: 1;}#sk-container-id-2 div.sk-parallel {display: flex;align-items: stretch;justify-content: center;background-color: white;position: relative;}#sk-container-id-2 div.sk-item::before, #sk-container-id-2 div.sk-parallel-item::before {content: \"\";position: absolute;border-left: 1px solid gray;box-sizing: border-box;top: 0;bottom: 0;left: 50%;z-index: -1;}#sk-container-id-2 div.sk-parallel-item {display: flex;flex-direction: column;z-index: 1;position: relative;background-color: white;}#sk-container-id-2 div.sk-parallel-item:first-child::after {align-self: flex-end;width: 50%;}#sk-container-id-2 div.sk-parallel-item:last-child::after {align-self: flex-start;width: 50%;}#sk-container-id-2 div.sk-parallel-item:only-child::after {width: 0;}#sk-container-id-2 div.sk-dashed-wrapped {border: 1px dashed gray;margin: 0 0.4em 0.5em 0.4em;box-sizing: border-box;padding-bottom: 0.4em;background-color: white;}#sk-container-id-2 div.sk-label label {font-family: monospace;font-weight: bold;display: inline-block;line-height: 1.2em;}#sk-container-id-2 div.sk-label-container {text-align: center;}#sk-container-id-2 div.sk-container {/* jupyter's `normalize.less` sets `[hidden] { display: none; }` but bootstrap.min.css set `[hidden] { display: none !important; }` so we also need the `!important` here to be able to override the default hidden behavior on the sphinx rendered scikit-learn.org. See: https://github.com/scikit-learn/scikit-learn/issues/21755 */display: inline-block !important;position: relative;}#sk-container-id-2 div.sk-text-repr-fallback {display: none;}</style><div id=\"sk-container-id-2\" class=\"sk-top-container\"><div class=\"sk-text-repr-fallback\"><pre>GaussianNB()</pre><b>In a Jupyter environment, please rerun this cell to show the HTML representation or trust the notebook. <br />On GitHub, the HTML representation is unable to render, please try loading this page with nbviewer.org.</b></div><div class=\"sk-container\" hidden><div class=\"sk-item\"><div class=\"sk-estimator sk-toggleable\"><input class=\"sk-toggleable__control sk-hidden--visually\" id=\"sk-estimator-id-2\" type=\"checkbox\" checked><label for=\"sk-estimator-id-2\" class=\"sk-toggleable__label sk-toggleable__label-arrow\">GaussianNB</label><div class=\"sk-toggleable__content\"><pre>GaussianNB()</pre></div></div></div></div></div>"
            ]
          },
          "metadata": {},
          "execution_count": 35
        }
      ]
    },
    {
      "cell_type": "code",
      "source": [
        "# Predict on the test set for each classifier\n",
        "y_pred_logistic = logistic_classifier.predict(X_test)\n",
        "y_pred_knn = knn_classifier.predict(X_test)\n",
        "y_pred_decision_tree = decision_tree_classifier.predict(X_test)\n",
        "y_pred_random_forest = random_forest_classifier.predict(X_test)\n",
        "y_pred_naive_bayes = naive_bayes_classifier.predict(X_test)"
      ],
      "metadata": {
        "id": "IiNTk2GrQdaP"
      },
      "execution_count": 36,
      "outputs": []
    },
    {
      "cell_type": "code",
      "source": [
        "\n",
        "# Calculate accuracy for each classifier\n",
        "accuracy_logistic = accuracy_score(y_test, y_pred_logistic)\n",
        "accuracy_knn = accuracy_score(y_test, y_pred_knn)\n",
        "accuracy_decision_tree = accuracy_score(y_test, y_pred_decision_tree)\n",
        "accuracy_random_forest = accuracy_score(y_test, y_pred_random_forest)\n",
        "accuracy_naive_bayes = accuracy_score(y_test, y_pred_naive_bayes)\n",
        "\n",
        "print(\"Logistic Regression Accuracy:\", accuracy_logistic)\n",
        "print(\"K-Nearest Neighbors Accuracy:\", accuracy_knn)\n",
        "print(\"Decision Tree Accuracy:\", accuracy_decision_tree)\n",
        "print(\"Random Forest Accuracy:\", accuracy_random_forest)\n",
        "print(\"Naive Bayes Accuracy:\", accuracy_naive_bayes)"
      ],
      "metadata": {
        "colab": {
          "base_uri": "https://localhost:8080/"
        },
        "id": "dBCm2fSHQf37",
        "outputId": "dbf0b489-ca44-4afb-81ca-4ef12f721eca"
      },
      "execution_count": 37,
      "outputs": [
        {
          "output_type": "stream",
          "name": "stdout",
          "text": [
            "Logistic Regression Accuracy: 0.6059532367943583\n",
            "K-Nearest Neighbors Accuracy: 0.9452089966108658\n",
            "Decision Tree Accuracy: 0.9571394337749478\n",
            "Random Forest Accuracy: 0.9565745780699052\n",
            "Naive Bayes Accuracy: 0.5669097257882305\n"
          ]
        }
      ]
    },
    {
      "cell_type": "code",
      "source": [
        "from sklearn.metrics import confusion_matrix\n",
        "\n",
        "# Print classification report and confusion matrix for each classifier\n",
        "print(\"Logistic Regression Classification Report:\")\n",
        "print(classification_report(y_test, y_pred_logistic))\n",
        "print(\"Logistic Regression Confusion Matrix:\")\n",
        "print(confusion_matrix(y_test, y_pred_logistic))\n",
        "\n",
        "print(\"K-Nearest Neighbors Classification Report:\")\n",
        "print(classification_report(y_test, y_pred_knn))\n",
        "print(\"K-Nearest Neighbors Confusion Matrix:\")\n",
        "print(confusion_matrix(y_test, y_pred_knn))\n",
        "\n",
        "print(\"Decision Tree Classification Report:\")\n",
        "print(classification_report(y_test, y_pred_decision_tree))\n",
        "print(\"Decision Tree Confusion Matrix:\")\n",
        "print(confusion_matrix(y_test, y_pred_decision_tree))\n",
        "\n",
        "print(\"Random Forest Classification Report:\")\n",
        "print(classification_report(y_test, y_pred_random_forest))\n",
        "print(\"Random Forest Confusion Matrix:\")\n",
        "print(confusion_matrix(y_test, y_pred_random_forest))\n",
        "\n",
        "print(\"Naive Bayes Classification Report:\")\n",
        "print(classification_report(y_test, y_pred_naive_bayes))\n",
        "print(\"Naive Bayes Confusion Matrix:\")\n",
        "print(confusion_matrix(y_test, y_pred_naive_bayes))"
      ],
      "metadata": {
        "colab": {
          "base_uri": "https://localhost:8080/"
        },
        "id": "L9V81aogQje_",
        "outputId": "1d7b9a4e-6774-4ca0-aa04-4cd3483541e6"
      },
      "execution_count": 38,
      "outputs": [
        {
          "output_type": "stream",
          "name": "stdout",
          "text": [
            "Logistic Regression Classification Report:\n",
            "              precision    recall  f1-score   support\n",
            "\n",
            "           0       0.49      0.65      0.56     21502\n",
            "           1       1.00      0.57      0.72      9916\n",
            "           2       0.57      0.51      0.54     22830\n",
            "           3       1.00      1.00      1.00      4174\n",
            "\n",
            "    accuracy                           0.61     58422\n",
            "   macro avg       0.77      0.68      0.71     58422\n",
            "weighted avg       0.65      0.61      0.61     58422\n",
            "\n",
            "Logistic Regression Confusion Matrix:\n",
            "[[14038     0  7464     0]\n",
            " [ 3181  5604  1130     1]\n",
            " [11243     0 11587     0]\n",
            " [    1     0     1  4172]]\n",
            "K-Nearest Neighbors Classification Report:\n",
            "              precision    recall  f1-score   support\n",
            "\n",
            "           0       0.92      0.94      0.93     21502\n",
            "           1       0.95      0.93      0.94      9916\n",
            "           2       0.95      0.95      0.95     22830\n",
            "           3       1.00      1.00      1.00      4174\n",
            "\n",
            "    accuracy                           0.95     58422\n",
            "   macro avg       0.96      0.95      0.96     58422\n",
            "weighted avg       0.95      0.95      0.95     58422\n",
            "\n",
            "K-Nearest Neighbors Confusion Matrix:\n",
            "[[20174   409   918     1]\n",
            " [  531  9265   120     0]\n",
            " [ 1167    49 21614     0]\n",
            " [    3     1     2  4168]]\n",
            "Decision Tree Classification Report:\n",
            "              precision    recall  f1-score   support\n",
            "\n",
            "           0       0.95      0.95      0.95     21502\n",
            "           1       0.95      0.95      0.95      9916\n",
            "           2       0.96      0.96      0.96     22830\n",
            "           3       1.00      1.00      1.00      4174\n",
            "\n",
            "    accuracy                           0.96     58422\n",
            "   macro avg       0.96      0.96      0.96     58422\n",
            "weighted avg       0.96      0.96      0.96     58422\n",
            "\n",
            "Decision Tree Confusion Matrix:\n",
            "[[20335   407   760     0]\n",
            " [  375  9425   116     0]\n",
            " [  713   131 21986     0]\n",
            " [    1     0     1  4172]]\n",
            "Random Forest Classification Report:\n",
            "              precision    recall  f1-score   support\n",
            "\n",
            "           0       0.94      0.95      0.95     21502\n",
            "           1       0.97      0.93      0.95      9916\n",
            "           2       0.96      0.97      0.96     22830\n",
            "           3       1.00      1.00      1.00      4174\n",
            "\n",
            "    accuracy                           0.96     58422\n",
            "   macro avg       0.97      0.96      0.96     58422\n",
            "weighted avg       0.96      0.96      0.96     58422\n",
            "\n",
            "Random Forest Confusion Matrix:\n",
            "[[20478   194   830     0]\n",
            " [  585  9200   131     0]\n",
            " [  682   114 22034     0]\n",
            " [    0     1     0  4173]]\n",
            "Naive Bayes Classification Report:\n",
            "              precision    recall  f1-score   support\n",
            "\n",
            "           0       0.48      0.92      0.63     21502\n",
            "           1       1.00      0.56      0.71      9916\n",
            "           2       0.98      0.16      0.27     22830\n",
            "           3       0.54      1.00      0.71      4174\n",
            "\n",
            "    accuracy                           0.57     58422\n",
            "   macro avg       0.75      0.66      0.58     58422\n",
            "weighted avg       0.77      0.57      0.51     58422\n",
            "\n",
            "Naive Bayes Confusion Matrix:\n",
            "[[19852     0     3  1647]\n",
            " [ 3973  5517    88   338]\n",
            " [17747     0  3578  1505]\n",
            " [    1     0     0  4173]]\n"
          ]
        }
      ]
    },
    {
      "cell_type": "code",
      "source": [
        "# Calculate and print Accuracy\n",
        "accuracy_nn = accuracy_score(y_test, y_pred_logistic)\n",
        "print(\"Accuracy of IDS:\", accuracy_nn)\n",
        "\n",
        "# Calculate and print Precision\n",
        "precision_nn = precision_score(y_test, y_pred_logistic, average='weighted')\n",
        "print(\"Precision of IDS:\", precision_nn)\n",
        "\n",
        "# Calculate and print Recall\n",
        "recall_nn = recall_score(y_test, y_pred_logistic, average='weighted')\n",
        "print(\"Recall of IDS:\", recall_nn)\n",
        "\n",
        "# Calculate and print Average F1-Score\n",
        "f1_weighted_nn = f1_score(y_test, y_pred_logistic, average='weighted')\n",
        "print(\"Average F1 of IDS:\", f1_weighted_nn)\n",
        "\n",
        "# Calculate and print F1-Score for each type of attack\n",
        "f1_per_class_nn = f1_score(y_test,y_pred_logistic, average=None)\n",
        "print(\"F1 based IDS for each type of attack:\", f1_per_class_nn)\n"
      ],
      "metadata": {
        "colab": {
          "base_uri": "https://localhost:8080/"
        },
        "id": "K5pCoURadTWZ",
        "outputId": "a74bb0c6-03b2-40aa-a579-5377457b0245"
      },
      "execution_count": 39,
      "outputs": [
        {
          "output_type": "stream",
          "name": "stdout",
          "text": [
            "Accuracy of IDS: 0.6059532367943583\n",
            "Precision of IDS: 0.6470354821328458\n",
            "Recall of IDS: 0.6059532367943583\n",
            "Average F1 of IDS: 0.6113466267263069\n",
            "F1 based IDS for each type of attack: [0.56191334 0.72216495 0.53877988 0.99964059]\n"
          ]
        }
      ]
    },
    {
      "cell_type": "code",
      "source": [
        "# Calculate and print Accuracy\n",
        "accuracy_nn = accuracy_score(y_test, y_pred_knn)\n",
        "print(\"Accuracy of IDS:\", accuracy_nn)\n",
        "\n",
        "# Calculate and print Precision\n",
        "precision_nn = precision_score(y_test, y_pred_knn, average='weighted')\n",
        "print(\"Precision of IDS:\", precision_nn)\n",
        "\n",
        "# Calculate and print Recall\n",
        "recall_nn = recall_score(y_test, y_pred_knn, average='weighted')\n",
        "print(\"Recall of IDS:\", recall_nn)\n",
        "\n",
        "# Calculate and print Average F1-Score\n",
        "f1_weighted_nn = f1_score(y_test, y_pred_knn, average='weighted')\n",
        "print(\"Average F1 of IDS:\", f1_weighted_nn)\n",
        "\n",
        "# Calculate and print F1-Score for each type of attack\n",
        "f1_per_class_nn = f1_score(y_test,y_pred_knn, average=None)\n",
        "print(\"F1 based IDS for each type of attack:\", f1_per_class_nn)"
      ],
      "metadata": {
        "colab": {
          "base_uri": "https://localhost:8080/"
        },
        "id": "tA-yTjxUdg0f",
        "outputId": "ae5e31ac-7721-45ac-9d8f-e87ed0299262"
      },
      "execution_count": 40,
      "outputs": [
        {
          "output_type": "stream",
          "name": "stdout",
          "text": [
            "Accuracy of IDS: 0.9452089966108658\n",
            "Precision of IDS: 0.9454120114734772\n",
            "Recall of IDS: 0.9452089966108658\n",
            "Average F1 of IDS: 0.945264295633423\n",
            "F1 based IDS for each type of attack: [0.93017037 0.94348269 0.95040014 0.99916097]\n"
          ]
        }
      ]
    },
    {
      "cell_type": "code",
      "source": [
        "# Calculate and print Accuracy\n",
        "accuracy_nn = accuracy_score(y_test, y_pred_decision_tree)\n",
        "print(\"Accuracy of IDS:\", accuracy_nn)\n",
        "\n",
        "# Calculate and print Precision\n",
        "precision_nn = precision_score(y_test, y_pred_decision_tree, average='weighted')\n",
        "print(\"Precision of IDS:\", precision_nn)\n",
        "\n",
        "# Calculate and print Recall\n",
        "recall_nn = recall_score(y_test, y_pred_decision_tree, average='weighted')\n",
        "print(\"Recall of IDS:\", recall_nn)\n",
        "\n",
        "# Calculate and print Average F1-Score\n",
        "f1_weighted_nn = f1_score(y_test, y_pred_decision_tree, average='weighted')\n",
        "print(\"Average F1 of IDS:\", f1_weighted_nn)\n",
        "\n",
        "# Calculate and print F1-Score for each type of attack\n",
        "f1_per_class_nn = f1_score(y_test,y_pred_decision_tree, average=None)\n",
        "print(\"F1 based IDS for each type of attack:\", f1_per_class_nn)"
      ],
      "metadata": {
        "colab": {
          "base_uri": "https://localhost:8080/"
        },
        "id": "yYPjeTR5dyTg",
        "outputId": "36876c2d-c59c-48f4-8987-84143016d046"
      },
      "execution_count": 41,
      "outputs": [
        {
          "output_type": "stream",
          "name": "stdout",
          "text": [
            "Accuracy of IDS: 0.9571394337749478\n",
            "Precision of IDS: 0.9571366784621756\n",
            "Recall of IDS: 0.9571394337749478\n",
            "Average F1 of IDS: 0.9571358048462923\n",
            "F1 based IDS for each type of attack: [0.94744444 0.94823683 0.96233559 0.99976036]\n"
          ]
        }
      ]
    },
    {
      "cell_type": "code",
      "source": [
        "# Calculate and print Accuracy\n",
        "accuracy_nn = accuracy_score(y_test, y_pred_random_forest)\n",
        "print(\"Accuracy of IDS:\", accuracy_nn)\n",
        "\n",
        "# Calculate and print Precision\n",
        "precision_nn = precision_score(y_test, y_pred_random_forest, average='weighted')\n",
        "print(\"Precision of IDS:\", precision_nn)\n",
        "\n",
        "# Calculate and print Recall\n",
        "recall_nn = recall_score(y_test, y_pred_random_forest, average='weighted')\n",
        "print(\"Recall of IDS:\", recall_nn)\n",
        "\n",
        "# Calculate and print Average F1-Score\n",
        "f1_weighted_nn = f1_score(y_test, y_pred_random_forest, average='weighted')\n",
        "print(\"Average F1 of IDS:\", f1_weighted_nn)\n",
        "\n",
        "# Calculate and print F1-Score for each type of attack\n",
        "f1_per_class_nn = f1_score(y_test,y_pred_random_forest, average=None)\n",
        "print(\"F1 based IDS for each type of attack:\", f1_per_class_nn)"
      ],
      "metadata": {
        "colab": {
          "base_uri": "https://localhost:8080/"
        },
        "id": "DKpnHGXgd7RV",
        "outputId": "a7c08a14-5ff5-4b59-a631-7eb022cb2128"
      },
      "execution_count": 42,
      "outputs": [
        {
          "output_type": "stream",
          "name": "stdout",
          "text": [
            "Accuracy of IDS: 0.9565745780699052\n",
            "Precision of IDS: 0.9567085798449381\n",
            "Recall of IDS: 0.9565745780699052\n",
            "Average F1 of IDS: 0.9565550897757712\n",
            "F1 based IDS for each type of attack: [0.94702523 0.94723295 0.96165848 0.9998802 ]\n"
          ]
        }
      ]
    },
    {
      "cell_type": "code",
      "source": [
        "# Calculate and print Accuracy\n",
        "accuracy_nn = accuracy_score(y_test, y_pred_naive_bayes)\n",
        "print(\"Accuracy of IDS:\", accuracy_nn)\n",
        "\n",
        "# Calculate and print Precision\n",
        "precision_nn = precision_score(y_test, y_pred_naive_bayes, average='weighted')\n",
        "print(\"Precision of IDS:\", precision_nn)\n",
        "\n",
        "# Calculate and print Recall\n",
        "recall_nn = recall_score(y_test, y_pred_naive_bayes, average='weighted')\n",
        "print(\"Recall of IDS:\", recall_nn)\n",
        "\n",
        "# Calculate and print Average F1-Score\n",
        "f1_weighted_nn = f1_score(y_test, y_pred_naive_bayes, average='weighted')\n",
        "print(\"Average F1 of IDS:\", f1_weighted_nn)\n",
        "\n",
        "# Calculate and print F1-Score for each type of attack\n",
        "f1_per_class_nn = f1_score(y_test,y_pred_naive_bayes, average=None)\n",
        "print(\"F1 based IDS for each type of attack:\", f1_per_class_nn)"
      ],
      "metadata": {
        "colab": {
          "base_uri": "https://localhost:8080/"
        },
        "id": "zbmKZ7AreJAt",
        "outputId": "3fbce237-ee4e-43f3-e288-70dd0ade7515"
      },
      "execution_count": 43,
      "outputs": [
        {
          "output_type": "stream",
          "name": "stdout",
          "text": [
            "Accuracy of IDS: 0.5669097257882305\n",
            "Precision of IDS: 0.7654726180992943\n",
            "Recall of IDS: 0.5669097257882305\n",
            "Average F1 of IDS: 0.5089293369873986\n",
            "F1 based IDS for each type of attack: [0.62947285 0.71496145 0.27004793 0.7050773 ]\n"
          ]
        }
      ]
    }
  ]
}