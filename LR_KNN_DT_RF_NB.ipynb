{
  "nbformat": 4,
  "nbformat_minor": 0,
  "metadata": {
    "colab": {
      "provenance": [],
      "authorship_tag": "ABX9TyMlLJWBRABUoF37sbJXWyz2",
      "include_colab_link": true
    },
    "kernelspec": {
      "name": "python3",
      "display_name": "Python 3"
    },
    "language_info": {
      "name": "python"
    }
  },
  "cells": [
    {
      "cell_type": "markdown",
      "metadata": {
        "id": "view-in-github",
        "colab_type": "text"
      },
      "source": [
        "<a href=\"https://colab.research.google.com/github/durrapearl/mqtt/blob/main/LR_KNN_DT_RF_NB.ipynb\" target=\"_parent\"><img src=\"https://colab.research.google.com/assets/colab-badge.svg\" alt=\"Open In Colab\"/></a>"
      ]
    },
    {
      "cell_type": "code",
      "execution_count": 2,
      "metadata": {
        "colab": {
          "base_uri": "https://localhost:8080/"
        },
        "id": "HViXepuT6EEW",
        "outputId": "9e8251e3-d0a9-4b13-ab47-9cb1423de7ae"
      },
      "outputs": [
        {
          "output_type": "stream",
          "name": "stdout",
          "text": [
            "Drive already mounted at /content/drive; to attempt to forcibly remount, call drive.mount(\"/content/drive\", force_remount=True).\n"
          ]
        }
      ],
      "source": [
        "import warnings\n",
        "warnings.filterwarnings(\"ignore\")\n",
        "import pandas as pd\n",
        "import numpy as np\n",
        "from sklearn.model_selection import train_test_split, cross_val_score\n",
        "from sklearn.preprocessing import LabelEncoder, StandardScaler, OneHotEncoder\n",
        "from imblearn.over_sampling import ADASYN\n",
        "from sklearn.metrics import classification_report, accuracy_score, precision_score, recall_score, f1_score\n",
        "import matplotlib.pyplot as plt\n",
        "import seaborn as sns\n",
        "from sklearn.linear_model import LogisticRegression\n",
        "from sklearn.neighbors import KNeighborsClassifier\n",
        "from sklearn.tree import DecisionTreeClassifier\n",
        "from sklearn.ensemble import RandomForestClassifier, VotingClassifier\n",
        "from sklearn.naive_bayes import GaussianNB\n",
        "# Mount Google Drive (if needed)\n",
        "from google.colab import drive\n",
        "drive.mount('/content/drive')\n",
        "\n",
        "# Extract zipfile\n",
        "import zipfile"
      ]
    },
    {
      "cell_type": "code",
      "source": [
        "# Define the path to the ZIP file and the extraction directory\n",
        "zip_file_path = '/content/drive/MyDrive/uniflow_features.zip'\n",
        "extraction_path = '/content/uniflow_features/'\n",
        "\n",
        "# Create the extraction directory if it doesn't exist\n",
        "import os\n",
        "os.makedirs(extraction_path, exist_ok=True)\n",
        "\n",
        "# Unzip the file\n",
        "with zipfile.ZipFile(zip_file_path, 'r') as zip_ref:\n",
        "    zip_ref.extractall(extraction_path)\n",
        "\n",
        "# List the extracted files\n",
        "extracted_files = os.listdir(extraction_path)\n",
        "print(f'Extracted files: {extracted_files}')\n",
        "\n",
        "# Import the os module if not already imported\n",
        "import os\n",
        "\n",
        "# Define file paths for the CSV files\n",
        "normal_csv_path = os.path.join(extraction_path, 'uniflow_normal.csv')\n",
        "scan_su_csv_path = os.path.join(extraction_path, 'uniflow_scan_sU.csv')\n",
        "sparta_csv_path = os.path.join(extraction_path, 'uniflow_sparta.csv')\n",
        "mqtt_bruteforce_csv_path = os.path.join(extraction_path, 'uniflow_mqtt_bruteforce.csv')\n",
        "\n",
        "# Load CSV files into DataFrames\n",
        "normal_df = pd.read_csv(normal_csv_path)\n",
        "scan_su_df = pd.read_csv(scan_su_csv_path)\n",
        "sparta_df = pd.read_csv(sparta_csv_path)\n",
        "mqtt_bruteforce_df = pd.read_csv(mqtt_bruteforce_csv_path)\n",
        "\n",
        "# Add a 'class' column to each DataFrame\n",
        "normal_df['class'] = '0'\n",
        "scan_su_df['class'] = '1'\n",
        "sparta_df['class'] = '2'\n",
        "mqtt_bruteforce_df['class'] = '3'\n",
        "# Concatenate the DataFrames into one combined_df\n",
        "df = pd.concat([normal_df, scan_su_df, sparta_df, mqtt_bruteforce_df], ignore_index=True)\n",
        "\n",
        "# Check the distribution of labels\n",
        "label_counts = df['class'].value_counts()\n",
        "print(label_counts)\n",
        "\n",
        "# Define your feature matrix X and target variable y\n",
        "y = df['class']  # 'class' column is your label\n",
        "X = df.drop(columns=['class'])  # Exclude the 'class' column from features\n",
        "\n",
        "# Encode the target variable\n",
        "label_encoder = LabelEncoder()\n",
        "y_encoded = label_encoder.fit_transform(y)"
      ],
      "metadata": {
        "colab": {
          "base_uri": "https://localhost:8080/"
        },
        "id": "HVlv8fGp6IXO",
        "outputId": "dac78d9a-2bde-4bd8-95b2-36d36cb5a72e"
      },
      "execution_count": 3,
      "outputs": [
        {
          "output_type": "stream",
          "name": "stdout",
          "text": [
            "Extracted files: ['uniflow_normal.csv', 'uniflow_mqtt_bruteforce.csv', 'uniflow_scan_sU.csv', 'uniflow_sparta.csv', 'uniflow_scan_A.csv']\n",
            "2    182407\n",
            "0    171836\n",
            "1     56845\n",
            "3     33079\n",
            "Name: class, dtype: int64\n"
          ]
        }
      ]
    },
    {
      "cell_type": "code",
      "source": [
        "# Assuming 'ip_src' and 'ip_dst' are categorical columns in your original DataFrame\n",
        "categorical_cols = ['ip_src', 'ip_dst']  # Add other categorical columns if needed\n",
        "encoder = OneHotEncoder(sparse=False, drop='first')\n",
        "\n",
        "# Apply one-hot encoding to categorical columns\n",
        "X_encoded = encoder.fit_transform(X[categorical_cols])\n",
        "\n",
        "# Normalize the numerical columns\n",
        "numeric_cols = X.columns.difference(categorical_cols)\n",
        "scaler = StandardScaler()\n",
        "X_scaled_numeric = scaler.fit_transform(X[numeric_cols])\n",
        "\n",
        "# Combine the one-hot encoded and scaled numeric features\n",
        "X_final = np.hstack((X_encoded, X_scaled_numeric))\n",
        "\n",
        "# Split the data into training and test sets\n",
        "X_train, X_test, y_train, y_test = train_test_split(X_final, y_encoded, random_state=42, stratify=y_encoded)"
      ],
      "metadata": {
        "id": "KFSjjFYF6MzC"
      },
      "execution_count": 4,
      "outputs": []
    },
    {
      "cell_type": "code",
      "source": [
        "from collections import Counter\n",
        "class_distribution = Counter(y_train)\n",
        "print(class_distribution)"
      ],
      "metadata": {
        "colab": {
          "base_uri": "https://localhost:8080/"
        },
        "id": "43e5Wj9d8uac",
        "outputId": "1df5ad57-b319-498a-a833-dbd0e57a9711"
      },
      "execution_count": 5,
      "outputs": [
        {
          "output_type": "stream",
          "name": "stdout",
          "text": [
            "Counter({2: 136805, 0: 128877, 1: 42634, 3: 24809})\n"
          ]
        }
      ]
    },
    {
      "cell_type": "code",
      "source": [
        "# Apply ADASYN for oversampling\n",
        "adasyn = ADASYN(n_jobs=-1, sampling_strategy={2: 136805, 0: 128877, 1: 42634, 3: 24809})\n",
        "X_train_resampled, y_train_resampled = adasyn.fit_resample(X_train, y_train)"
      ],
      "metadata": {
        "id": "oNHNqD9l6PD9"
      },
      "execution_count": 6,
      "outputs": []
    },
    {
      "cell_type": "code",
      "source": [
        "# Initialize and train the Gaussian Naive Bayes classifier\n",
        "nb_classifier = GaussianNB()\n",
        "nb_classifier.fit(X_train_resampled, y_train_resampled)\n",
        "# Predict on the test set\n",
        "y_pred = nb_classifier.predict(X_test)\n",
        "\n",
        "# Calculate accuracy on the test set\n",
        "accuracy = accuracy_score(y_test, y_pred)\n",
        "print(f'Accuracy: {accuracy:.2f}')"
      ],
      "metadata": {
        "colab": {
          "base_uri": "https://localhost:8080/"
        },
        "id": "AxJc-GYg6Q2K",
        "outputId": "c4a05a27-c1e3-41a6-f090-14ae6c1fdee2"
      },
      "execution_count": 7,
      "outputs": [
        {
          "output_type": "stream",
          "name": "stdout",
          "text": [
            "Accuracy: 0.58\n"
          ]
        }
      ]
    },
    {
      "cell_type": "code",
      "source": [
        "# Initialize and train the Decision Tree Classifier\n",
        "dt_classifier = DecisionTreeClassifier(criterion='entropy', random_state=0)\n",
        "dt_classifier.fit(X_train_resampled, y_train_resampled)\n",
        "\n",
        "# Predict on the test set\n",
        "y_pred = dt_classifier.predict(X_test)\n",
        "\n",
        "# Calculate accuracy on the test set\n",
        "accuracy = accuracy_score(y_test, y_pred)\n",
        "print(f'Accuracy: {accuracy:.2f}')"
      ],
      "metadata": {
        "colab": {
          "base_uri": "https://localhost:8080/"
        },
        "id": "5SSwERhS6Skr",
        "outputId": "6c54eee6-09db-4bc0-f3a5-bdd3043e1e21"
      },
      "execution_count": 8,
      "outputs": [
        {
          "output_type": "stream",
          "name": "stdout",
          "text": [
            "Accuracy: 0.91\n"
          ]
        }
      ]
    },
    {
      "cell_type": "code",
      "source": [
        "# Initialize classifiers\n",
        "logistic_classifier = LogisticRegression(n_jobs=-1, random_state=0)\n",
        "knn_classifier = KNeighborsClassifier(n_jobs=-1)\n",
        "decision_tree_classifier = DecisionTreeClassifier(criterion='entropy', random_state=0)\n",
        "random_forest_classifier = RandomForestClassifier(criterion='entropy', n_jobs=-1, random_state=0)\n",
        "naive_bayes_classifier = GaussianNB()"
      ],
      "metadata": {
        "id": "znck5m8GUo94"
      },
      "execution_count": 13,
      "outputs": []
    },
    {
      "cell_type": "code",
      "source": [
        "# Train each classifier individually\n",
        "logistic_classifier.fit(X_train_resampled, y_train_resampled)\n",
        "knn_classifier.fit(X_train_resampled, y_train_resampled)\n",
        "decision_tree_classifier.fit(X_train_resampled, y_train_resampled)\n",
        "random_forest_classifier.fit(X_train_resampled, y_train_resampled)\n",
        "naive_bayes_classifier.fit(X_train_resampled, y_train_resampled)\n"
      ],
      "metadata": {
        "colab": {
          "base_uri": "https://localhost:8080/",
          "height": 75
        },
        "id": "BqyRwZ-1QauA",
        "outputId": "88cc36f3-466b-4117-c8b0-e7e378db2e3f"
      },
      "execution_count": 14,
      "outputs": [
        {
          "output_type": "execute_result",
          "data": {
            "text/plain": [
              "GaussianNB()"
            ],
            "text/html": [
              "<style>#sk-container-id-1 {color: black;background-color: white;}#sk-container-id-1 pre{padding: 0;}#sk-container-id-1 div.sk-toggleable {background-color: white;}#sk-container-id-1 label.sk-toggleable__label {cursor: pointer;display: block;width: 100%;margin-bottom: 0;padding: 0.3em;box-sizing: border-box;text-align: center;}#sk-container-id-1 label.sk-toggleable__label-arrow:before {content: \"▸\";float: left;margin-right: 0.25em;color: #696969;}#sk-container-id-1 label.sk-toggleable__label-arrow:hover:before {color: black;}#sk-container-id-1 div.sk-estimator:hover label.sk-toggleable__label-arrow:before {color: black;}#sk-container-id-1 div.sk-toggleable__content {max-height: 0;max-width: 0;overflow: hidden;text-align: left;background-color: #f0f8ff;}#sk-container-id-1 div.sk-toggleable__content pre {margin: 0.2em;color: black;border-radius: 0.25em;background-color: #f0f8ff;}#sk-container-id-1 input.sk-toggleable__control:checked~div.sk-toggleable__content {max-height: 200px;max-width: 100%;overflow: auto;}#sk-container-id-1 input.sk-toggleable__control:checked~label.sk-toggleable__label-arrow:before {content: \"▾\";}#sk-container-id-1 div.sk-estimator input.sk-toggleable__control:checked~label.sk-toggleable__label {background-color: #d4ebff;}#sk-container-id-1 div.sk-label input.sk-toggleable__control:checked~label.sk-toggleable__label {background-color: #d4ebff;}#sk-container-id-1 input.sk-hidden--visually {border: 0;clip: rect(1px 1px 1px 1px);clip: rect(1px, 1px, 1px, 1px);height: 1px;margin: -1px;overflow: hidden;padding: 0;position: absolute;width: 1px;}#sk-container-id-1 div.sk-estimator {font-family: monospace;background-color: #f0f8ff;border: 1px dotted black;border-radius: 0.25em;box-sizing: border-box;margin-bottom: 0.5em;}#sk-container-id-1 div.sk-estimator:hover {background-color: #d4ebff;}#sk-container-id-1 div.sk-parallel-item::after {content: \"\";width: 100%;border-bottom: 1px solid gray;flex-grow: 1;}#sk-container-id-1 div.sk-label:hover label.sk-toggleable__label {background-color: #d4ebff;}#sk-container-id-1 div.sk-serial::before {content: \"\";position: absolute;border-left: 1px solid gray;box-sizing: border-box;top: 0;bottom: 0;left: 50%;z-index: 0;}#sk-container-id-1 div.sk-serial {display: flex;flex-direction: column;align-items: center;background-color: white;padding-right: 0.2em;padding-left: 0.2em;position: relative;}#sk-container-id-1 div.sk-item {position: relative;z-index: 1;}#sk-container-id-1 div.sk-parallel {display: flex;align-items: stretch;justify-content: center;background-color: white;position: relative;}#sk-container-id-1 div.sk-item::before, #sk-container-id-1 div.sk-parallel-item::before {content: \"\";position: absolute;border-left: 1px solid gray;box-sizing: border-box;top: 0;bottom: 0;left: 50%;z-index: -1;}#sk-container-id-1 div.sk-parallel-item {display: flex;flex-direction: column;z-index: 1;position: relative;background-color: white;}#sk-container-id-1 div.sk-parallel-item:first-child::after {align-self: flex-end;width: 50%;}#sk-container-id-1 div.sk-parallel-item:last-child::after {align-self: flex-start;width: 50%;}#sk-container-id-1 div.sk-parallel-item:only-child::after {width: 0;}#sk-container-id-1 div.sk-dashed-wrapped {border: 1px dashed gray;margin: 0 0.4em 0.5em 0.4em;box-sizing: border-box;padding-bottom: 0.4em;background-color: white;}#sk-container-id-1 div.sk-label label {font-family: monospace;font-weight: bold;display: inline-block;line-height: 1.2em;}#sk-container-id-1 div.sk-label-container {text-align: center;}#sk-container-id-1 div.sk-container {/* jupyter's `normalize.less` sets `[hidden] { display: none; }` but bootstrap.min.css set `[hidden] { display: none !important; }` so we also need the `!important` here to be able to override the default hidden behavior on the sphinx rendered scikit-learn.org. See: https://github.com/scikit-learn/scikit-learn/issues/21755 */display: inline-block !important;position: relative;}#sk-container-id-1 div.sk-text-repr-fallback {display: none;}</style><div id=\"sk-container-id-1\" class=\"sk-top-container\"><div class=\"sk-text-repr-fallback\"><pre>GaussianNB()</pre><b>In a Jupyter environment, please rerun this cell to show the HTML representation or trust the notebook. <br />On GitHub, the HTML representation is unable to render, please try loading this page with nbviewer.org.</b></div><div class=\"sk-container\" hidden><div class=\"sk-item\"><div class=\"sk-estimator sk-toggleable\"><input class=\"sk-toggleable__control sk-hidden--visually\" id=\"sk-estimator-id-1\" type=\"checkbox\" checked><label for=\"sk-estimator-id-1\" class=\"sk-toggleable__label sk-toggleable__label-arrow\">GaussianNB</label><div class=\"sk-toggleable__content\"><pre>GaussianNB()</pre></div></div></div></div></div>"
            ]
          },
          "metadata": {},
          "execution_count": 14
        }
      ]
    },
    {
      "cell_type": "code",
      "source": [
        "# Predict on the test set for each classifier\n",
        "y_pred_logistic = logistic_classifier.predict(X_test)\n",
        "y_pred_knn = knn_classifier.predict(X_test)\n",
        "y_pred_decision_tree = decision_tree_classifier.predict(X_test)\n",
        "y_pred_random_forest = random_forest_classifier.predict(X_test)\n",
        "y_pred_naive_bayes = naive_bayes_classifier.predict(X_test)"
      ],
      "metadata": {
        "id": "IiNTk2GrQdaP"
      },
      "execution_count": 15,
      "outputs": []
    },
    {
      "cell_type": "code",
      "source": [
        "\n",
        "# Calculate accuracy for each classifier\n",
        "accuracy_logistic = accuracy_score(y_test, y_pred_logistic)\n",
        "accuracy_knn = accuracy_score(y_test, y_pred_knn)\n",
        "accuracy_decision_tree = accuracy_score(y_test, y_pred_decision_tree)\n",
        "accuracy_random_forest = accuracy_score(y_test, y_pred_random_forest)\n",
        "accuracy_naive_bayes = accuracy_score(y_test, y_pred_naive_bayes)\n",
        "\n",
        "print(\"Logistic Regression Accuracy:\", accuracy_logistic)\n",
        "print(\"K-Nearest Neighbors Accuracy:\", accuracy_knn)\n",
        "print(\"Decision Tree Accuracy:\", accuracy_decision_tree)\n",
        "print(\"Random Forest Accuracy:\", accuracy_random_forest)\n",
        "print(\"Naive Bayes Accuracy:\", accuracy_naive_bayes)"
      ],
      "metadata": {
        "colab": {
          "base_uri": "https://localhost:8080/"
        },
        "id": "dBCm2fSHQf37",
        "outputId": "b9bd3678-e427-4ec1-e2cd-303c71b6a48e"
      },
      "execution_count": 16,
      "outputs": [
        {
          "output_type": "stream",
          "name": "stdout",
          "text": [
            "Logistic Regression Accuracy: 0.5874714072152879\n",
            "K-Nearest Neighbors Accuracy: 0.8642855856342645\n",
            "Decision Tree Accuracy: 0.9136542929702275\n",
            "Random Forest Accuracy: 0.915158228418076\n",
            "Naive Bayes Accuracy: 0.5753408620161741\n"
          ]
        }
      ]
    },
    {
      "cell_type": "code",
      "source": [
        "from sklearn.metrics import confusion_matrix\n",
        "\n",
        "# Print classification report and confusion matrix for each classifier\n",
        "print(\"Logistic Regression Classification Report:\")\n",
        "print(classification_report(y_test, y_pred_logistic))\n",
        "print(\"Logistic Regression Confusion Matrix:\")\n",
        "print(confusion_matrix(y_test, y_pred_logistic))\n",
        "\n",
        "print(\"K-Nearest Neighbors Classification Report:\")\n",
        "print(classification_report(y_test, y_pred_knn))\n",
        "print(\"K-Nearest Neighbors Confusion Matrix:\")\n",
        "print(confusion_matrix(y_test, y_pred_knn))\n",
        "\n",
        "print(\"Decision Tree Classification Report:\")\n",
        "print(classification_report(y_test, y_pred_decision_tree))\n",
        "print(\"Decision Tree Confusion Matrix:\")\n",
        "print(confusion_matrix(y_test, y_pred_decision_tree))\n",
        "\n",
        "print(\"Random Forest Classification Report:\")\n",
        "print(classification_report(y_test, y_pred_random_forest))\n",
        "print(\"Random Forest Confusion Matrix:\")\n",
        "print(confusion_matrix(y_test, y_pred_random_forest))\n",
        "\n",
        "print(\"Naive Bayes Classification Report:\")\n",
        "print(classification_report(y_test, y_pred_naive_bayes))\n",
        "print(\"Naive Bayes Confusion Matrix:\")\n",
        "print(confusion_matrix(y_test, y_pred_naive_bayes))"
      ],
      "metadata": {
        "colab": {
          "base_uri": "https://localhost:8080/"
        },
        "id": "L9V81aogQje_",
        "outputId": "73531d44-3fd0-4e34-da22-041fe36b58c6"
      },
      "execution_count": 18,
      "outputs": [
        {
          "output_type": "stream",
          "name": "stdout",
          "text": [
            "Logistic Regression Classification Report:\n",
            "              precision    recall  f1-score   support\n",
            "\n",
            "           0       0.49      0.64      0.56     42959\n",
            "           1       1.00      0.40      0.57     14211\n",
            "           2       0.57      0.52      0.55     45602\n",
            "           3       1.00      1.00      1.00      8270\n",
            "\n",
            "    accuracy                           0.59    111042\n",
            "   macro avg       0.77      0.64      0.67    111042\n",
            "weighted avg       0.63      0.59      0.59    111042\n",
            "\n",
            "Logistic Regression Confusion Matrix:\n",
            "[[27429     0 15530     0]\n",
            " [ 6408  5657  2141     5]\n",
            " [21722     0 23879     1]\n",
            " [    0     0     1  8269]]\n",
            "K-Nearest Neighbors Classification Report:\n",
            "              precision    recall  f1-score   support\n",
            "\n",
            "           0       0.82      0.84      0.83     42959\n",
            "           1       0.77      0.74      0.76     14211\n",
            "           2       0.91      0.90      0.91     45602\n",
            "           3       1.00      1.00      1.00      8270\n",
            "\n",
            "    accuracy                           0.86    111042\n",
            "   macro avg       0.88      0.87      0.87    111042\n",
            "weighted avg       0.86      0.86      0.86    111042\n",
            "\n",
            "K-Nearest Neighbors Confusion Matrix:\n",
            "[[35927  3033  3999     0]\n",
            " [ 3470 10566   173     2]\n",
            " [ 4311    72 41219     0]\n",
            " [    8     1     1  8260]]\n",
            "Decision Tree Classification Report:\n",
            "              precision    recall  f1-score   support\n",
            "\n",
            "           0       0.89      0.89      0.89     42959\n",
            "           1       0.85      0.85      0.85     14211\n",
            "           2       0.94      0.94      0.94     45602\n",
            "           3       1.00      1.00      1.00      8270\n",
            "\n",
            "    accuracy                           0.91    111042\n",
            "   macro avg       0.92      0.92      0.92    111042\n",
            "weighted avg       0.91      0.91      0.91    111042\n",
            "\n",
            "Decision Tree Confusion Matrix:\n",
            "[[38296  1990  2673     0]\n",
            " [ 1973 12058   180     0]\n",
            " [ 2554   218 42830     0]\n",
            " [    0     0     0  8270]]\n",
            "Random Forest Classification Report:\n",
            "              precision    recall  f1-score   support\n",
            "\n",
            "           0       0.88      0.91      0.90     42959\n",
            "           1       0.95      0.73      0.82     14211\n",
            "           2       0.93      0.96      0.94     45602\n",
            "           3       1.00      1.00      1.00      8270\n",
            "\n",
            "    accuracy                           0.92    111042\n",
            "   macro avg       0.94      0.90      0.92    111042\n",
            "weighted avg       0.92      0.92      0.91    111042\n",
            "\n",
            "Random Forest Confusion Matrix:\n",
            "[[39277   416  3266     0]\n",
            " [ 3631 10385   195     0]\n",
            " [ 1733   180 43689     0]\n",
            " [    0     0     0  8270]]\n",
            "Naive Bayes Classification Report:\n",
            "              precision    recall  f1-score   support\n",
            "\n",
            "           0       0.48      1.00      0.65     42959\n",
            "           1       0.95      0.40      0.56     14211\n",
            "           2       1.00      0.16      0.27     45602\n",
            "           3       1.00      1.00      1.00      8270\n",
            "\n",
            "    accuracy                           0.58    111042\n",
            "   macro avg       0.86      0.64      0.62    111042\n",
            "weighted avg       0.79      0.58      0.51    111042\n",
            "\n",
            "Naive Bayes Confusion Matrix:\n",
            "[[42776   183     0     0]\n",
            " [ 8506  5703     2     0]\n",
            " [38329   135  7138     0]\n",
            " [    0     0     0  8270]]\n"
          ]
        }
      ]
    },
    {
      "cell_type": "code",
      "source": [
        "# Calculate and print Accuracy\n",
        "accuracy_nn = accuracy_score(y_test, y_pred_logistic)\n",
        "print(\"Accuracy of IDS:\", accuracy_nn)\n",
        "\n",
        "# Calculate and print Precision\n",
        "precision_nn = precision_score(y_test, y_pred_logistic, average='weighted')\n",
        "print(\"Precision of IDS:\", precision_nn)\n",
        "\n",
        "# Calculate and print Recall\n",
        "recall_nn = recall_score(y_test, y_pred_logistic, average='weighted')\n",
        "print(\"Recall of IDS:\", recall_nn)\n",
        "\n",
        "# Calculate and print Average F1-Score\n",
        "f1_weighted_nn = f1_score(y_test, y_pred_logistic, average='weighted')\n",
        "print(\"Average F1 of IDS:\", f1_weighted_nn)\n",
        "\n",
        "# Calculate and print F1-Score for each type of attack\n",
        "f1_per_class_nn = f1_score(y_test,y_pred_logistic, average=None)\n",
        "print(\"F1 based IDS for each type of attack:\", f1_per_class_nn)\n"
      ],
      "metadata": {
        "colab": {
          "base_uri": "https://localhost:8080/"
        },
        "id": "K5pCoURadTWZ",
        "outputId": "9f1f4c0e-dfdf-4d0f-c13d-fec1b6988fcb"
      },
      "execution_count": 21,
      "outputs": [
        {
          "output_type": "stream",
          "name": "stdout",
          "text": [
            "Accuracy of IDS: 0.5874714072152879\n",
            "Precision of IDS: 0.6294065914543014\n",
            "Recall of IDS: 0.5874714072152879\n",
            "Average F1 of IDS: 0.5877862672493627\n",
            "F1 based IDS for each type of attack: [0.55683225 0.56945843 0.54797884 0.99957691]\n"
          ]
        }
      ]
    },
    {
      "cell_type": "code",
      "source": [
        "# Calculate and print Accuracy\n",
        "accuracy_nn = accuracy_score(y_test, y_pred_knn)\n",
        "print(\"Accuracy of IDS:\", accuracy_nn)\n",
        "\n",
        "# Calculate and print Precision\n",
        "precision_nn = precision_score(y_test, y_pred_knn, average='weighted')\n",
        "print(\"Precision of IDS:\", precision_nn)\n",
        "\n",
        "# Calculate and print Recall\n",
        "recall_nn = recall_score(y_test, y_pred_knn, average='weighted')\n",
        "print(\"Recall of IDS:\", recall_nn)\n",
        "\n",
        "# Calculate and print Average F1-Score\n",
        "f1_weighted_nn = f1_score(y_test, y_pred_knn, average='weighted')\n",
        "print(\"Average F1 of IDS:\", f1_weighted_nn)\n",
        "\n",
        "# Calculate and print F1-Score for each type of attack\n",
        "f1_per_class_nn = f1_score(y_test,y_pred_knn, average=None)\n",
        "print(\"F1 based IDS for each type of attack:\", f1_per_class_nn)"
      ],
      "metadata": {
        "colab": {
          "base_uri": "https://localhost:8080/"
        },
        "id": "tA-yTjxUdg0f",
        "outputId": "20f31c92-9baa-4a75-cdac-6940575023a8"
      },
      "execution_count": 23,
      "outputs": [
        {
          "output_type": "stream",
          "name": "stdout",
          "text": [
            "Accuracy of IDS: 0.8642855856342645\n",
            "Precision of IDS: 0.864223619774099\n",
            "Recall of IDS: 0.8642855856342645\n",
            "Average F1 of IDS: 0.8641918801071837\n",
            "F1 based IDS for each type of attack: [0.8290049  0.75788115 0.90597182 0.99927414]\n"
          ]
        }
      ]
    },
    {
      "cell_type": "code",
      "source": [
        "# Calculate and print Accuracy\n",
        "accuracy_nn = accuracy_score(y_test, y_pred_decision_tree)\n",
        "print(\"Accuracy of IDS:\", accuracy_nn)\n",
        "\n",
        "# Calculate and print Precision\n",
        "precision_nn = precision_score(y_test, y_pred_decision_tree, average='weighted')\n",
        "print(\"Precision of IDS:\", precision_nn)\n",
        "\n",
        "# Calculate and print Recall\n",
        "recall_nn = recall_score(y_test, y_pred_decision_tree, average='weighted')\n",
        "print(\"Recall of IDS:\", recall_nn)\n",
        "\n",
        "# Calculate and print Average F1-Score\n",
        "f1_weighted_nn = f1_score(y_test, y_pred_decision_tree, average='weighted')\n",
        "print(\"Average F1 of IDS:\", f1_weighted_nn)\n",
        "\n",
        "# Calculate and print F1-Score for each type of attack\n",
        "f1_per_class_nn = f1_score(y_test,y_pred_decision_tree, average=None)\n",
        "print(\"F1 based IDS for each type of attack:\", f1_per_class_nn)"
      ],
      "metadata": {
        "colab": {
          "base_uri": "https://localhost:8080/"
        },
        "id": "yYPjeTR5dyTg",
        "outputId": "4cc578e9-46e0-43b2-95a7-ee74edefa2fa"
      },
      "execution_count": 24,
      "outputs": [
        {
          "output_type": "stream",
          "name": "stdout",
          "text": [
            "Accuracy of IDS: 0.9136542929702275\n",
            "Precision of IDS: 0.9136470347697362\n",
            "Recall of IDS: 0.9136542929702275\n",
            "Average F1 of IDS: 0.9136490879219853\n",
            "F1 based IDS for each type of attack: [0.89286797 0.84685887 0.9383798  1.        ]\n"
          ]
        }
      ]
    },
    {
      "cell_type": "code",
      "source": [
        "# Calculate and print Accuracy\n",
        "accuracy_nn = accuracy_score(y_test, y_pred_random_forest)\n",
        "print(\"Accuracy of IDS:\", accuracy_nn)\n",
        "\n",
        "# Calculate and print Precision\n",
        "precision_nn = precision_score(y_test, y_pred_random_forest, average='weighted')\n",
        "print(\"Precision of IDS:\", precision_nn)\n",
        "\n",
        "# Calculate and print Recall\n",
        "recall_nn = recall_score(y_test, y_pred_random_forest, average='weighted')\n",
        "print(\"Recall of IDS:\", recall_nn)\n",
        "\n",
        "# Calculate and print Average F1-Score\n",
        "f1_weighted_nn = f1_score(y_test, y_pred_random_forest, average='weighted')\n",
        "print(\"Average F1 of IDS:\", f1_weighted_nn)\n",
        "\n",
        "# Calculate and print F1-Score for each type of attack\n",
        "f1_per_class_nn = f1_score(y_test,y_pred_random_forest, average=None)\n",
        "print(\"F1 based IDS for each type of attack:\", f1_per_class_nn)"
      ],
      "metadata": {
        "colab": {
          "base_uri": "https://localhost:8080/"
        },
        "id": "DKpnHGXgd7RV",
        "outputId": "d07a41f1-58b6-4525-a8f9-c7fb27d6e442"
      },
      "execution_count": 25,
      "outputs": [
        {
          "output_type": "stream",
          "name": "stdout",
          "text": [
            "Accuracy of IDS: 0.915158228418076\n",
            "Precision of IDS: 0.916422850090562\n",
            "Recall of IDS: 0.915158228418076\n",
            "Average F1 of IDS: 0.9137912395621053\n",
            "F1 based IDS for each type of attack: [0.89673516 0.82446809 0.94206055 1.        ]\n"
          ]
        }
      ]
    },
    {
      "cell_type": "code",
      "source": [
        "# Calculate and print Accuracy\n",
        "accuracy_nn = accuracy_score(y_test, y_pred_naive_bayes)\n",
        "print(\"Accuracy of IDS:\", accuracy_nn)\n",
        "\n",
        "# Calculate and print Precision\n",
        "precision_nn = precision_score(y_test, y_pred_naive_bayes, average='weighted')\n",
        "print(\"Precision of IDS:\", precision_nn)\n",
        "\n",
        "# Calculate and print Recall\n",
        "recall_nn = recall_score(y_test, y_pred_naive_bayes, average='weighted')\n",
        "print(\"Recall of IDS:\", recall_nn)\n",
        "\n",
        "# Calculate and print Average F1-Score\n",
        "f1_weighted_nn = f1_score(y_test, y_pred_naive_bayes, average='weighted')\n",
        "print(\"Average F1 of IDS:\", f1_weighted_nn)\n",
        "\n",
        "# Calculate and print F1-Score for each type of attack\n",
        "f1_per_class_nn = f1_score(y_test,y_pred_naive_bayes, average=None)\n",
        "print(\"F1 based IDS for each type of attack:\", f1_per_class_nn)"
      ],
      "metadata": {
        "colab": {
          "base_uri": "https://localhost:8080/"
        },
        "id": "zbmKZ7AreJAt",
        "outputId": "5614a3df-baa4-4952-bd6c-730c199fad4e"
      },
      "execution_count": 26,
      "outputs": [
        {
          "output_type": "stream",
          "name": "stdout",
          "text": [
            "Accuracy of IDS: 0.5753408620161741\n",
            "Precision of IDS: 0.7909281137240582\n",
            "Recall of IDS: 0.5753408620161741\n",
            "Average F1 of IDS: 0.5074467117059621\n",
            "F1 based IDS for each type of attack: [0.64533454 0.56376038 0.27067612 1.        ]\n"
          ]
        }
      ]
    }
  ]
}